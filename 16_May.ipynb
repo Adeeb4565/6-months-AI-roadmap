{
 "cells": [
  {
   "cell_type": "code",
   "execution_count": 4,
   "id": "d66a098d-2003-4b8c-acd6-d305ec390bd1",
   "metadata": {},
   "outputs": [],
   "source": [
    "l = [10]"
   ]
  },
  {
   "cell_type": "code",
   "execution_count": 5,
   "id": "1033f5fe-34f8-413e-89c6-d027210ca14e",
   "metadata": {},
   "outputs": [
    {
     "data": {
      "text/plain": [
       "[10]"
      ]
     },
     "execution_count": 5,
     "metadata": {},
     "output_type": "execute_result"
    }
   ],
   "source": [
    "l"
   ]
  },
  {
   "cell_type": "code",
   "execution_count": 7,
   "id": "43c0d20f-df1e-4702-82c6-8a10e0819949",
   "metadata": {},
   "outputs": [
    {
     "data": {
      "text/plain": [
       "[10]"
      ]
     },
     "execution_count": 7,
     "metadata": {},
     "output_type": "execute_result"
    }
   ],
   "source": [
    "l"
   ]
  },
  {
   "cell_type": "code",
   "execution_count": 8,
   "id": "0b095be6-0374-475e-81c9-67a6231682a7",
   "metadata": {},
   "outputs": [
    {
     "data": {
      "text/plain": [
       "list"
      ]
     },
     "execution_count": 8,
     "metadata": {},
     "output_type": "execute_result"
    }
   ],
   "source": [
    "type(l)"
   ]
  },
  {
   "cell_type": "code",
   "execution_count": 12,
   "id": "50177c82-791c-4c8c-a63e-c70d8061d404",
   "metadata": {},
   "outputs": [],
   "source": [
    "l =[10,20,30,40]"
   ]
  },
  {
   "cell_type": "code",
   "execution_count": 13,
   "id": "5021b4c4-241c-4adf-af31-20774773b9e8",
   "metadata": {},
   "outputs": [
    {
     "data": {
      "text/plain": [
       "[10, 20, 30, 40]"
      ]
     },
     "execution_count": 13,
     "metadata": {},
     "output_type": "execute_result"
    }
   ],
   "source": [
    "l"
   ]
  },
  {
   "cell_type": "code",
   "execution_count": 14,
   "id": "5408dd92-1ea7-4ab1-9a50-d5c3acb18fb1",
   "metadata": {},
   "outputs": [
    {
     "data": {
      "text/plain": [
       "4"
      ]
     },
     "execution_count": 14,
     "metadata": {},
     "output_type": "execute_result"
    }
   ],
   "source": [
    "len(l)"
   ]
  },
  {
   "cell_type": "code",
   "execution_count": 29,
   "id": "5cde2dd5-b9b0-463f-a52c-0bdfd202ca0f",
   "metadata": {},
   "outputs": [],
   "source": [
    "l10 = []"
   ]
  },
  {
   "cell_type": "code",
   "execution_count": 32,
   "id": "b5c3805f-1d2e-484a-b125-00e7136ad246",
   "metadata": {},
   "outputs": [],
   "source": [
    "l10 =  l.copy()"
   ]
  },
  {
   "cell_type": "code",
   "execution_count": 33,
   "id": "64b0a016-8a92-44c1-a1d1-619afa526912",
   "metadata": {},
   "outputs": [
    {
     "data": {
      "text/plain": [
       "[10, 20, 30, 40]"
      ]
     },
     "execution_count": 33,
     "metadata": {},
     "output_type": "execute_result"
    }
   ],
   "source": [
    "l10"
   ]
  },
  {
   "cell_type": "code",
   "execution_count": 34,
   "id": "703a21d8-377e-4fc9-834c-af681871ef58",
   "metadata": {},
   "outputs": [
    {
     "data": {
      "text/plain": [
       "True"
      ]
     },
     "execution_count": 34,
     "metadata": {},
     "output_type": "execute_result"
    }
   ],
   "source": [
    "l == l10"
   ]
  },
  {
   "cell_type": "code",
   "execution_count": 35,
   "id": "514c705a-384d-43e3-b2dd-0817de01c8c3",
   "metadata": {},
   "outputs": [
    {
     "name": "stdout",
     "output_type": "stream",
     "text": [
      "[10, 20, 30, 40]\n",
      "[10, 20, 30, 40]\n"
     ]
    }
   ],
   "source": [
    "print(l)\n",
    "print(l10)"
   ]
  },
  {
   "cell_type": "code",
   "execution_count": 36,
   "id": "6f1b623e-940b-4827-b5ee-55a9d0c9ad42",
   "metadata": {},
   "outputs": [
    {
     "data": {
      "text/plain": [
       "1"
      ]
     },
     "execution_count": 36,
     "metadata": {},
     "output_type": "execute_result"
    }
   ],
   "source": [
    "l.count(20)"
   ]
  },
  {
   "cell_type": "code",
   "execution_count": 37,
   "id": "314749d8-f20c-4ebc-b2f9-bc4a921651a6",
   "metadata": {},
   "outputs": [
    {
     "data": {
      "text/plain": [
       "1"
      ]
     },
     "execution_count": 37,
     "metadata": {},
     "output_type": "execute_result"
    }
   ],
   "source": [
    "l.count(40)"
   ]
  },
  {
   "cell_type": "code",
   "execution_count": 38,
   "id": "a927d152-1518-48e7-a084-20749800b2a8",
   "metadata": {},
   "outputs": [
    {
     "data": {
      "text/plain": [
       "0"
      ]
     },
     "execution_count": 38,
     "metadata": {},
     "output_type": "execute_result"
    }
   ],
   "source": [
    "l.count(50)"
   ]
  },
  {
   "cell_type": "code",
   "execution_count": 39,
   "id": "d779eb96-5f2b-49e0-a204-ed5d5191daf9",
   "metadata": {},
   "outputs": [],
   "source": [
    "l9 =[2.3, 'int',True,(1+2j),[1,2,3]]"
   ]
  },
  {
   "cell_type": "code",
   "execution_count": 40,
   "id": "64d4dc3c-b950-4f1c-8441-a46001399833",
   "metadata": {},
   "outputs": [
    {
     "data": {
      "text/plain": [
       "[2.3, 'int', True, (1+2j), [1, 2, 3]]"
      ]
     },
     "execution_count": 40,
     "metadata": {},
     "output_type": "execute_result"
    }
   ],
   "source": [
    "l9"
   ]
  },
  {
   "cell_type": "code",
   "execution_count": 41,
   "id": "cd2a53c0-acf5-4ba9-bf6b-bd68a1287be5",
   "metadata": {},
   "outputs": [
    {
     "data": {
      "text/plain": [
       "(1+2j)"
      ]
     },
     "execution_count": 41,
     "metadata": {},
     "output_type": "execute_result"
    }
   ],
   "source": [
    "l9[3]"
   ]
  },
  {
   "cell_type": "code",
   "execution_count": 42,
   "id": "de24edf2-898d-4c34-89d9-d8803faab6f4",
   "metadata": {},
   "outputs": [
    {
     "data": {
      "text/plain": [
       "True"
      ]
     },
     "execution_count": 42,
     "metadata": {},
     "output_type": "execute_result"
    }
   ],
   "source": [
    "l9[2]"
   ]
  },
  {
   "cell_type": "code",
   "execution_count": 43,
   "id": "794a6ea8-4b44-44c8-a344-fa1f654a0d44",
   "metadata": {},
   "outputs": [
    {
     "data": {
      "text/plain": [
       "[1, 2, 3]"
      ]
     },
     "execution_count": 43,
     "metadata": {},
     "output_type": "execute_result"
    }
   ],
   "source": [
    "l9[-1]"
   ]
  },
  {
   "cell_type": "code",
   "execution_count": 44,
   "id": "fea36307-175e-4b15-b5c9-fcce6d94ab10",
   "metadata": {},
   "outputs": [
    {
     "data": {
      "text/plain": [
       "(1+2j)"
      ]
     },
     "execution_count": 44,
     "metadata": {},
     "output_type": "execute_result"
    }
   ],
   "source": [
    "l9[-2]"
   ]
  },
  {
   "cell_type": "code",
   "execution_count": 45,
   "id": "0c439355-68ae-4969-b8ac-de3af462fe29",
   "metadata": {},
   "outputs": [],
   "source": [
    "l9[0] = 230"
   ]
  },
  {
   "cell_type": "code",
   "execution_count": 46,
   "id": "929bf25c-73cf-4b8a-891c-57be22399aae",
   "metadata": {},
   "outputs": [
    {
     "data": {
      "text/plain": [
       "[230, 'int', True, (1+2j), [1, 2, 3]]"
      ]
     },
     "execution_count": 46,
     "metadata": {},
     "output_type": "execute_result"
    }
   ],
   "source": [
    "l9"
   ]
  },
  {
   "cell_type": "code",
   "execution_count": 47,
   "id": "eb559772-2b02-45b6-a43f-bd080bdb295a",
   "metadata": {},
   "outputs": [
    {
     "data": {
      "text/plain": [
       "[10, 20, 30, 40]"
      ]
     },
     "execution_count": 47,
     "metadata": {},
     "output_type": "execute_result"
    }
   ],
   "source": [
    "l10"
   ]
  },
  {
   "cell_type": "code",
   "execution_count": 52,
   "id": "f38b3979-2c91-40a9-a16c-78cdd33bec06",
   "metadata": {},
   "outputs": [],
   "source": [
    "l10.clear()"
   ]
  },
  {
   "cell_type": "code",
   "execution_count": 53,
   "id": "ece117d8-7895-4215-aa26-e4b51c9968c9",
   "metadata": {},
   "outputs": [
    {
     "data": {
      "text/plain": [
       "[]"
      ]
     },
     "execution_count": 53,
     "metadata": {},
     "output_type": "execute_result"
    }
   ],
   "source": [
    "l10"
   ]
  },
  {
   "cell_type": "code",
   "execution_count": 54,
   "id": "88b03523-c4e6-4144-9af4-edd778a17e8b",
   "metadata": {},
   "outputs": [],
   "source": [
    "del l10"
   ]
  },
  {
   "cell_type": "code",
   "execution_count": 55,
   "id": "4035aa1e-c191-46c1-aed1-68b5171389c8",
   "metadata": {},
   "outputs": [
    {
     "ename": "NameError",
     "evalue": "name 'l10' is not defined",
     "output_type": "error",
     "traceback": [
      "\u001b[1;31m---------------------------------------------------------------------------\u001b[0m",
      "\u001b[1;31mNameError\u001b[0m                                 Traceback (most recent call last)",
      "Cell \u001b[1;32mIn[55], line 1\u001b[0m\n\u001b[1;32m----> 1\u001b[0m l10\n",
      "\u001b[1;31mNameError\u001b[0m: name 'l10' is not defined"
     ]
    }
   ],
   "source": [
    "l10"
   ]
  },
  {
   "cell_type": "code",
   "execution_count": 56,
   "id": "e81e2cf6-0810-4922-b231-4b87f7dec57a",
   "metadata": {},
   "outputs": [
    {
     "data": {
      "text/plain": [
       "[230, 'int', True, (1+2j), [1, 2, 3]]"
      ]
     },
     "execution_count": 56,
     "metadata": {},
     "output_type": "execute_result"
    }
   ],
   "source": [
    "l9"
   ]
  },
  {
   "cell_type": "code",
   "execution_count": 57,
   "id": "c1fae2a8-bfcf-4dda-81ee-825ba1cf897b",
   "metadata": {},
   "outputs": [
    {
     "data": {
      "text/plain": [
       "[1, 2, 3]"
      ]
     },
     "execution_count": 57,
     "metadata": {},
     "output_type": "execute_result"
    }
   ],
   "source": [
    "l9.pop()"
   ]
  },
  {
   "cell_type": "code",
   "execution_count": 58,
   "id": "cb747cf5-8b1e-4a71-927a-ac30029f6dc3",
   "metadata": {},
   "outputs": [
    {
     "data": {
      "text/plain": [
       "[230, 'int', True, (1+2j)]"
      ]
     },
     "execution_count": 58,
     "metadata": {},
     "output_type": "execute_result"
    }
   ],
   "source": [
    "l9"
   ]
  },
  {
   "cell_type": "code",
   "execution_count": 59,
   "id": "aa39fb05-838c-4ac6-896b-89467689e8b0",
   "metadata": {},
   "outputs": [
    {
     "data": {
      "text/plain": [
       "'int'"
      ]
     },
     "execution_count": 59,
     "metadata": {},
     "output_type": "execute_result"
    }
   ],
   "source": [
    "l9.pop(1)"
   ]
  },
  {
   "cell_type": "code",
   "execution_count": 60,
   "id": "53ca04d2-2ddb-4263-9136-df87590a39d3",
   "metadata": {},
   "outputs": [
    {
     "data": {
      "text/plain": [
       "[230, True, (1+2j)]"
      ]
     },
     "execution_count": 60,
     "metadata": {},
     "output_type": "execute_result"
    }
   ],
   "source": [
    "l9"
   ]
  }
 ],
 "metadata": {
  "kernelspec": {
   "display_name": "Python 3 (ipykernel)",
   "language": "python",
   "name": "python3"
  },
  "language_info": {
   "codemirror_mode": {
    "name": "ipython",
    "version": 3
   },
   "file_extension": ".py",
   "mimetype": "text/x-python",
   "name": "python",
   "nbconvert_exporter": "python",
   "pygments_lexer": "ipython3",
   "version": "3.12.7"
  }
 },
 "nbformat": 4,
 "nbformat_minor": 5
}
